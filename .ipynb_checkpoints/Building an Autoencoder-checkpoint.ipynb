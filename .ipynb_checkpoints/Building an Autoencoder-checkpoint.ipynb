{
 "cells": [
  {
   "cell_type": "code",
   "execution_count": 1,
   "id": "2253ff90-f3e1-48e2-8761-c952a5639a0d",
   "metadata": {},
   "outputs": [],
   "source": [
    "#create a basic autoencoder, and create a build-train flow"
   ]
  },
  {
   "cell_type": "markdown",
   "id": "abfe29b7-e578-4e68-8f0b-05adc8bcdfb8",
   "metadata": {},
   "source": [
    "### Building an Autoencoding Neural Network using $\\texttt{pytorch}$\n",
    "\n",
    "In this example tutorial, we will train our autoencoder on the [MNIST dataset](https://en.wikipedia.org/wiki/MNIST_database) of handwritten digits to reproduce these handwritten digits after passing them through a dimensionality reduction\n",
    "\n",
    "An autoencoder is kind of neural network that takes input data, passes them through a bottleneck, and forces the output of the neural network to be equal to the input. If successful, the bottleneck is then a succesful low-dimensional representation of the input data, and the 'decoder' can be used to reproduce all of the information in the input data. \n",
    "\n",
    "\n",
    "The figure below shows how an autoencoder works. The original image is shown as input to the encoder. The pixels valuws are then encoded into progressively smaller layers, until the smallest layer, where all of the information is forced to pass through only 3 nodes. The decoder then maps the outputs of these 3 nodes to the original image. Once such an autoencoder is trained, the latent space of only three numbers can fully represent all information in the original data, and the decoder can \"decode\" the information in the three nodes to reproduce the original data."
   ]
  },
  {
   "cell_type": "markdown",
   "id": "c14a4079-604a-42b6-bf7a-883a66556edf",
   "metadata": {},
   "source": [
    "![alt text](images/mona_lisa_AE.png)"
   ]
  },
  {
   "cell_type": "markdown",
   "id": "9c52e87d-b73f-47dd-8803-b579df5cebc9",
   "metadata": {},
   "source": [
    "### Let's build a simple autoencoder to show how this can work. "
   ]
  },
  {
   "cell_type": "markdown",
   "id": "f43c71b2-84c8-4130-92b2-df876b5362e7",
   "metadata": {},
   "source": [
    "First, let's take in our imports. We will use the $\\texttt{pytorch}$ library, so we should make sure it is installed properly. We will also check if a GPU is available to us in this environment. If a GPU is available, we will do our training on the GPU. This will dramatically speed up our training period. However, if a GPU is unavailable, this notebook will know to just use the cpu for training. "
   ]
  },
  {
   "cell_type": "code",
   "execution_count": 4,
   "id": "6c915f1f-1874-4538-bafc-00c4b689ebf8",
   "metadata": {},
   "outputs": [
    {
     "name": "stdout",
     "output_type": "stream",
     "text": [
      "Running on cpu\n"
     ]
    }
   ],
   "source": [
    "import torch\n",
    "from torchvision import datasets\n",
    "from torchvision import transforms\n",
    "from torch.utils.data import DataLoader, Subset\n",
    "import numpy as np\n",
    "import matplotlib.pyplot as plt\n",
    "import math\n",
    "\n",
    "if torch.cuda.is_available():\n",
    "    device = torch.device(\"cuda:0\")\n",
    "    print(\"Running on GPU\")\n",
    "else:\n",
    "    device = torch.device(\"cpu\")\n",
    "    print(\"Running on cpu\")"
   ]
  },
  {
   "cell_type": "markdown",
   "id": "0a01d3eb-ca2d-44b0-8853-20398520f294",
   "metadata": {},
   "source": [
    "Let's now read in all the data. For the purpose of this tutorial, we will only train on a small fraction of the full dataset so the training process runs quickly enough that we can see it work. We will use only 1% of the full dataset, but feel free to experiment what happens when you use a larger fraction of the dataset."
   ]
  },
  {
   "cell_type": "code",
   "execution_count": 5,
   "id": "90c5f66c-f91f-4108-bd3a-d9f75043ca4f",
   "metadata": {},
   "outputs": [],
   "source": [
    "# Transforms images to a PyTorch Tensor\n",
    "tensor_transform = transforms.ToTensor()\n",
    " \n",
    "# Download the MNIST Dataset\n",
    "dataset = datasets.MNIST(root = \"./data\", train = True, download = True, transform = tensor_transform)\n",
    "\n",
    "# DataLoader is used to load the dataset \n",
    "# for training\n",
    "\n",
    "indices6 = [i for i, (image, label) in enumerate(dataset) if label == 6]\n",
    "only6_dataset = Subset(dataset, indices6)\n",
    "\n",
    "\n",
    "subset_size = int(len(only6_dataset) * 0.1)  # 10% of the dataset of only 6's\n",
    "indices_subset = np.random.choice(len(only6_dataset), size=subset_size, replace=False)\n",
    "\n",
    "only6_subset_dataset = Subset(only6_dataset, indices_subset)\n",
    "loader = torch.utils.data.DataLoader(dataset = only6_subset_dataset, batch_size = 60, shuffle = True)"
   ]
  },
  {
   "cell_type": "markdown",
   "id": "a1de9c7e-1d37-4a32-96de-98b506ebbbca",
   "metadata": {},
   "source": [
    "Now that we have our data, let's build our neural network. The module $\\texttt{pytorch}$ gives us almost complete flexibility in both how we build our neural network, including making very specific changes to the architecture or the training process of the neural network. \n",
    "\n",
    "For this example, let's build a neural network that can take in an image with dimension 28x28, and reduces it to a latent space with size 1, and then expands it back out to 28x28. It will do this over the course of 3 layers in each of the decoder and the encoder. The choice of using a latent space with size 1 is a special choice we're making here, and I'll comment on that in a little bit. \n",
    "\n",
    "In $\\texttt{pytorch}$, a neural network like this is defined in a class. In our example, we are defining an autoencoder, so let's call our class 'AE':"
   ]
  },
  {
   "cell_type": "code",
   "execution_count": 6,
   "id": "be23c07d-4a84-40cd-a379-b2cbb282deb4",
   "metadata": {},
   "outputs": [],
   "source": [
    "# Creating a PyTorch class\n",
    "# 28*28 ==> 9 ==> 28*28\n",
    "class AE(torch.nn.Module):\n",
    "    def __init__(self):\n",
    "        super().__init__()\n",
    "\n",
    "        # Building an linear encoder with Linear\n",
    "        # layer followed by Relu activation function\n",
    "        # 784 ==> 9\n",
    "        self.encoder = torch.nn.Sequential(\n",
    "            torch.nn.Linear(28 * 28, 128),\n",
    "            torch.nn.ReLU(),\n",
    "            torch.nn.Linear(128, 18),\n",
    "            torch.nn.ReLU(),\n",
    "            torch.nn.Linear(18, 1)\n",
    "        )\n",
    "\n",
    "        # Building an linear decoder with Linear\n",
    "        # layer followed by Relu activation function\n",
    "        # The Sigmoid activation function\n",
    "        # outputs the value between 0 and 1\n",
    "        # 9 ==> 784\n",
    "        self.decoder = torch.nn.Sequential(\n",
    "            torch.nn.Linear(1, 18),\n",
    "            torch.nn.Sigmoid(),\n",
    "            torch.nn.Linear(18, 128),\n",
    "            torch.nn.ReLU(),\n",
    "            torch.nn.Linear(128, 28 * 28),\n",
    "            torch.nn.Sigmoid()\n",
    "        )\n",
    "\n",
    "    def forward(self, x):\n",
    "        encoded = self.encoder(x)\n",
    "        decoded = self.decoder(encoded)\n",
    "        return decoded"
   ]
  },
  {
   "cell_type": "markdown",
   "id": "4f81c082-51d6-4f8e-b758-7b2a9b4a9982",
   "metadata": {},
   "source": [
    "Next, we need to define a loss function, an optimizer, and a training strategy. The loss function will be a function that measures how far off the predicted output from the neural network is from the required output. We will use the MSE (mean squared error) function to measure loss, a standard way to measure loss. It is given by this equation:\n",
    "\n",
    "\n",
    "## MSE = $\\frac{1}{N}\\Sigma_{i=1}^{N}\\left[y_i-y_i'\\right]^2$,\n",
    "\n",
    "where $y$ is the true data that the neural network is trying to fit to, and $y'$ is the value predicted by the neural network. Therefore, as the predicted value $y'$ comes closer to the true value $y$, the MSE is reduced. In the ideal case, $y'$ is exactly equal to $y$, and MSE equals 0. The module $\\texttt{pytorch}$ is able to use the optimizer we define to get MSE to reduce to near zero. \n",
    " "
   ]
  },
  {
   "cell_type": "markdown",
   "id": "a4f262a3-8b28-4220-b3e3-e11ebfdc5f76",
   "metadata": {},
   "source": [
    "As such, the goal of our neural network is to work towards finding solutions that have progressively lower loss. The mathematical algorithm it will use to reduce loss is called the optimizer. We will use the [Adam optimizer](https://www.geeksforgeeks.org/adam-optimizer/), also a very commonly used optimizer.\n",
    "\n",
    "Note that here we will take advantage of the GPU, if it's available. The GPU will be where the training process is done, so both the model and input data need to be cast onto the GPU. $\\texttt{pytorch}$ treats (as it should!) the GPU and the CPU as two separate devices. As such, if we want to do computations with data on the GPU, everything interacting with the data and indeed, the data themselves, need to be cast onto the GPU. In the following cell, we will send both the model and data onto the GPU.\n",
    "\n",
    "\n",
    "There's a function called plot_reconstructions, which will allow us to plot a reconstruction compared to an example image in the dataset at specific epochs that we'll decide. This function will take the original image, the reconstructed image, and the epoch at which this is done, will plot the image and reconstruction next to each other."
   ]
  },
  {
   "cell_type": "code",
   "execution_count": null,
   "id": "a6cca0ec-a1af-4aec-83e8-d47c7bae18f4",
   "metadata": {},
   "outputs": [
    {
     "name": "stdout",
     "output_type": "stream",
     "text": [
      "Built NN, beginning training process\n"
     ]
    },
    {
     "data": {
      "image/png": "[encoded data removed]",
      "text/plain": [
       "<Figure size 640x480 with 2 Axes>"
      ]
     },
     "metadata": {},
     "output_type": "display_data"
    },
    {
     "data": {
      "image/png": "[encoded data removed]",
      "text/plain": [
       "<Figure size 640x480 with 2 Axes>"
      ]
     },
     "metadata": {},
     "output_type": "display_data"
    }
   ],
   "source": [
    "def plot_reconstructions(image, reconstruction, epoch):\n",
    "    #plot the original image and the reconstructed one\n",
    "    fig, (ax1, ax2) = plt.subplots(1, 2)\n",
    "    fig.suptitle(\"Reconstructing after \"+str(epoch)+\" epochs\")\n",
    "    ax1.imshow(image[0].reshape(28,28).cpu())\n",
    "    ax2.imshow(reconstruction[0].reshape(28,28).cpu().detach().numpy())\n",
    "    plt.subplots_adjust(top=0.85, wspace=0, hspace=0)\n",
    "    plt.show()\n",
    "\n",
    "\n",
    "\n",
    "model = None #make sure to remove any version of the model that exists in memory\n",
    "model = AE().to(device) #casting to model GPU, if GPU is available\n",
    "\n",
    "# Validation using MSE Loss function\n",
    "loss_function = torch.nn.MSELoss() #deciding which loss function to use for the training\n",
    " \n",
    "# Using an Adam Optimizer with learning rate = 0.1\n",
    "optimizer = torch.optim.Adam(model.parameters(), lr = 1e-1, weight_decay = 1e-8)\n",
    "\n",
    "print(\"Built NN, beginning training process\")\n",
    "\n",
    "epochs = 600\n",
    "outputs = []\n",
    "losses = []\n",
    "epochs_to_plot = [math.floor(epochs/10), \n",
    "                  math.floor(epochs/2), \n",
    "                  math.floor(0.75*epochs), \n",
    "                  epochs-1] # let's plot how the reconstruction approaches the correct answer over the course of the training period\n",
    "\n",
    "for epoch in range(epochs):\n",
    "    for (image, y) in loader:\n",
    "        # Reshaping the image to (-1, 784)\n",
    "        image = image.reshape(-1, 28*28).to(device)\n",
    "        \n",
    "        optimizer.zero_grad()\n",
    "        # Output of Autoencoder\n",
    "        reconstructed = model(image)\n",
    "        # Calculating the loss function\n",
    "        loss = loss_function(reconstructed, image)\n",
    "        \n",
    "        loss.backward()\n",
    "        optimizer.step()\n",
    "\n",
    "        # Storing the losses in a list for plotting\n",
    "        losses.append(loss)\n",
    "        if epoch == epochs-1:\n",
    "            outputs.append(reconstructed)\n",
    "    if epoch in epochs_to_plot or epoch == epochs-1:\n",
    "        plot_reconstructions(image, reconstructed, epoch)\n",
    "        \n",
    "print(\"Finished Training\")"
   ]
  },
  {
   "cell_type": "markdown",
   "id": "cb9694e9-68ec-4a82-801f-3a10cdefed0d",
   "metadata": {},
   "source": [
    "We've trained our network! Specifically, we trained our network to recognize a handwritten 6 and realize that it is a '6'.  Let's save this model so it can be reused, and see how we can reload it from file once saved."
   ]
  },
  {
   "cell_type": "code",
   "execution_count": 121,
   "id": "a787dfe6-6363-499c-be82-fc1dbe66c1af",
   "metadata": {},
   "outputs": [
    {
     "data": {
      "text/plain": [
       "AE(\n",
       "  (encoder): Sequential(\n",
       "    (0): Linear(in_features=784, out_features=128, bias=True)\n",
       "    (1): ReLU()\n",
       "    (2): Linear(in_features=128, out_features=18, bias=True)\n",
       "    (3): ReLU()\n",
       "    (4): Linear(in_features=18, out_features=1, bias=True)\n",
       "  )\n",
       "  (decoder): Sequential(\n",
       "    (0): Linear(in_features=1, out_features=18, bias=True)\n",
       "    (1): Sigmoid()\n",
       "    (2): Linear(in_features=18, out_features=128, bias=True)\n",
       "    (3): ReLU()\n",
       "    (4): Linear(in_features=128, out_features=784, bias=True)\n",
       "    (5): Sigmoid()\n",
       "  )\n",
       ")"
      ]
     },
     "execution_count": 121,
     "metadata": {},
     "output_type": "execute_result"
    }
   ],
   "source": [
    "torch.save(model.state_dict(), \"Trained Model.pt\") #saving the model\n",
    "\n",
    "\n",
    "six_model = AE()\n",
    "six_model.load_state_dict(torch.load(\"Trained Model.pt\", map_location = torch.device(\"cpu\")))\n",
    "six_model.eval()"
   ]
  },
  {
   "cell_type": "markdown",
   "id": "390aa30c-ebe2-4693-9b30-752b69da7ef0",
   "metadata": {},
   "source": [
    "## A Fun Note\n",
    "\n",
    "Recall that we used a latent space with size equal to 1. This means this latent space is made of one number that measures the \"six-ness\" of each image. Because we divided our autoencoder into an encoder and a decoder, if we use the latent space in combination with our decoder, we have a \"six generator\", where we can feed in a \"six-ness\" and generate a six with that \"six-ness\". In general, the more complicated our network is, and the longer we train for, the more detailed this measure of \"six-ness\" can become. Let's explore the different kinds of sixes we can create with our network: "
   ]
  },
  {
   "cell_type": "code",
   "execution_count": null,
   "id": "948e612b-b17b-42f9-a867-adbe1b14b007",
   "metadata": {},
   "outputs": [],
   "source": []
  }
 ],
 "metadata": {
  "kernelspec": {
   "display_name": "Python 3 (ipykernel)",
   "language": "python",
   "name": "python3"
  },
  "language_info": {
   "codemirror_mode": {
    "name": "ipython",
    "version": 3
   },
   "file_extension": ".py",
   "mimetype": "text/x-python",
   "name": "python",
   "nbconvert_exporter": "python",
   "pygments_lexer": "ipython3",
   "version": "3.12.5"
  }
 },
 "nbformat": 4,
 "nbformat_minor": 5
}
